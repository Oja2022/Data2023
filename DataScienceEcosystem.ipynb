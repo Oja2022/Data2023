{
 "cells": [
  {
   "cell_type": "markdown",
   "id": "5628732d",
   "metadata": {},
   "source": [
    "***Exercise 2 Create a Markdown cell with Title of the Notebook***\n",
    "#Data Science Tools and Ecosystem"
   ]
  },
  {
   "cell_type": "markdown",
   "id": "844bef5e",
   "metadata": {},
   "source": [
    "***Exercise 3 Create a Markdown Cell for Introduction***\n",
    "\n",
    "<table><thead><tr>In this notebook, Data Science Tools and Ecosystems are summarized</tr></thead></table>"
   ]
  },
  {
   "cell_type": "markdown",
   "id": "d47bdda6",
   "metadata": {},
   "source": [
    "***Exercise 4 Create a Markdown Cell to list Data Science languages***\n",
    "Some of the popular languages that Data Scientists use are:\n",
    "1. Python\n",
    "2. R\n",
    "3. Julia\n",
    "4. Structured Query Language (SQL)\n",
    "5. Java\n",
    "6. C++"
   ]
  },
  {
   "cell_type": "markdown",
   "id": "9f68a147",
   "metadata": {},
   "source": [
    "***Exercise 5 Create a Markdown Cell to list Data Science libraries***\n",
    "*Some of the commonly used libraries by Data Scientists are:\n",
    "1. TensorFlow\n",
    "2. NumPy\n",
    "3. SciPy \n",
    "4. Pandas\n",
    "5. Matplotlib \n",
    "6. Keras\n",
    "7. SciKit-Learn\n",
    "8. PyTorch\n",
    "9. ELI5\n",
    "10. PyBrain"
   ]
  },
  {
   "cell_type": "markdown",
   "id": "d9729141",
   "metadata": {},
   "source": [
    "***Exercise 6 Create a Markdown Cell with the table of the Data Science Tools***\n",
    "<table ><thead><tr><th > Data Science Tools </th></tr></thead>\n",
    "<tbody>\n",
    "<tr><td> Data Management </td></tr> \n",
    "<tr><td> Data Integration</td></tr> \n",
    "<tr><td> Data Visualisation</td></tr>\n",
    "</tbody>    \n",
    "</table>"
   ]
  },
  {
   "cell_type": "markdown",
   "id": "fef375fa",
   "metadata": {},
   "source": [
    "*Exercise 7 Create a Markdown Cell introducing arithematic expression examples\n"
   ]
  },
  {
   "cell_type": "code",
   "execution_count": 2,
   "id": "d34e98f3",
   "metadata": {},
   "outputs": [
    {
     "data": {
      "text/plain": [
       "17"
      ]
     },
     "execution_count": 2,
     "metadata": {},
     "output_type": "execute_result"
    }
   ],
   "source": [
    "#Exercise 8 Create a code cell to multiply and add numbers\n",
    "#This is simple arithematic expression to multiply and then add integers\n",
    "(3*4)+5"
   ]
  },
  {
   "cell_type": "code",
   "execution_count": 6,
   "id": "b6b3b643",
   "metadata": {},
   "outputs": [],
   "source": [
    "#Exercise 9 Create a code cell to convert minutes to hours\n",
    "#This will convert 200 minutes to hours by dividing by 60\n",
    "Minutes=200\n",
    "Hours=Minutes/60"
   ]
  },
  {
   "cell_type": "markdown",
   "id": "3b88f880",
   "metadata": {},
   "source": [
    "*Exercise 10 Insert a markdown cell to list Objectives\n",
    "<table><thead><tr><b>Objectives:</b></tr></thead>\n",
    "<tbody>\n",
    "<tr><td>List the data Science Languages</td></tr>\n",
    "<tr><td>List the data Science Libraries</td></tr>\n",
    "<tr><td>List the data Science Tools</td></tr>\n",
    "</tbody>\n",
    "</table>"
   ]
  },
  {
   "cell_type": "markdown",
   "id": "70c20bc7",
   "metadata": {},
   "source": [
    "*Exercise 11 Create a markdown cell to indicate the Author's name\n",
    "##Author\n",
    "Ojas Pradeep Dhamapurkar"
   ]
  },
  {
   "cell_type": "markdown",
   "id": "bd49a499",
   "metadata": {},
   "source": [
    "*Exercise 12 Share your notebook through GitHub"
   ]
  },
  {
   "cell_type": "markdown",
   "id": "4e2a0e4f",
   "metadata": {},
   "source": [
    "*Exercise 13 Take a screenshot of the first page of the notebook and save it as 1notebook.png"
   ]
  }
 ],
 "metadata": {
  "kernelspec": {
   "display_name": "Python 3 (ipykernel)",
   "language": "python",
   "name": "python3"
  },
  "language_info": {
   "codemirror_mode": {
    "name": "ipython",
    "version": 3
   },
   "file_extension": ".py",
   "mimetype": "text/x-python",
   "name": "python",
   "nbconvert_exporter": "python",
   "pygments_lexer": "ipython3",
   "version": "3.9.12"
  }
 },
 "nbformat": 4,
 "nbformat_minor": 5
}
